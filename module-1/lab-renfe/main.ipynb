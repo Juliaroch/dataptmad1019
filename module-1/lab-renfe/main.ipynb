{
 "cells": [
  {
   "cell_type": "code",
   "execution_count": 1,
   "metadata": {},
   "outputs": [],
   "source": [
    "import os\n",
    "import selenium\n",
    "import pandas as pd\n",
    "os.environ['PATH'] = f'{os.environ[\"PATH\"]}:{os.getcwd()}/drivers'"
   ]
  },
  {
   "cell_type": "code",
   "execution_count": 2,
   "metadata": {},
   "outputs": [
    {
     "data": {
      "text/plain": [
       "'/Users/Julia/miniconda3/envs/jupyter_env/bin:/Users/Julia/miniconda3/bin:/Users/Julia/miniconda3/bin:/Users/Julia/miniconda3/bin:/Users/Julia/miniconda3/bin:/Users/Julia/miniconda3/condabin:/usr/local/bin:/usr/bin:/bin:/usr/sbin:/sbin:/opt/X11/bin:/Users/Julia/labs/dataptmad1019/module-1/lab-renfe/drivers'"
      ]
     },
     "execution_count": 2,
     "metadata": {},
     "output_type": "execute_result"
    }
   ],
   "source": [
    "os.environ['PATH']"
   ]
  },
  {
   "cell_type": "code",
   "execution_count": 3,
   "metadata": {},
   "outputs": [],
   "source": [
    "from selenium import webdriver\n",
    "import datetime\n",
    "\n",
    "ORIGIN = 'MADRID'\n",
    "DESTINATION = 'PONFERRADA'\n",
    "\n",
    "# tickets for tomorrow\n",
    "DATE = (datetime.date.today() + datetime.timedelta(days=1)).strftime('%d/%m/%Y')\n",
    "\n",
    "from selenium.webdriver.common.keys import Keys\n",
    "\n",
    "browser = webdriver.Chrome()\n",
    "browser.get('http://www.renfe.com/')\n",
    "\n",
    "origin = browser.find_element_by_name('desOrigen')\n",
    "origin.send_keys(ORIGIN)\n",
    "origin.send_keys(Keys.ARROW_DOWN)\n",
    "origin.send_keys(Keys.ENTER)\n",
    "\n",
    "destination = browser.find_element_by_name('desDestino')\n",
    "destination.send_keys(DESTINATION)\n",
    "destination.send_keys(Keys.ARROW_DOWN)\n",
    "destination.send_keys(Keys.ENTER)\n",
    "\n",
    "date = browser.find_element_by_name('__fechaIdaVisual')\n",
    "date.send_keys(Keys.BACK_SPACE * 10)\n",
    "date.send_keys(DATE)\n",
    "\n",
    "destination.send_keys(Keys.ENTER)\n",
    "\n",
    "browser.implicitly_wait(10)"
   ]
  },
  {
   "cell_type": "code",
   "execution_count": 15,
   "metadata": {},
   "outputs": [],
   "source": [
    "list_departures = []\n",
    "for row in browser.find_elements_by_css_selector(\"tr.trayectoRow\"):\n",
    "    cell = row.find_elements_by_tag_name(\"td\")[1]\n",
    "    list_departures.append(cell.text)\n",
    "    \n",
    "list_arrivals = []\n",
    "for row in browser.find_elements_by_css_selector(\"tr.trayectoRow\"):\n",
    "    cell_1 = row.find_elements_by_tag_name(\"td\")[2]\n",
    "    list_arrivals.append(cell_1.text)\n",
    "    \n",
    "list_duration = []\n",
    "for row in browser.find_elements_by_css_selector(\"tr.trayectoRow\"):\n",
    "    cell_2 = row.find_elements_by_tag_name(\"td\")[3]\n",
    "    list_duration.append(cell_2.text) \n",
    "\n",
    "list_prices = []\n",
    "for row in browser.find_elements_by_css_selector(\"tr.trayectoRow\"):    \n",
    "    cell_3 = row.find_elements_by_tag_name(\"td\")[5]\n",
    "    list_prices.append(cell_3.text)\n"
   ]
  },
  {
   "cell_type": "code",
   "execution_count": 16,
   "metadata": {},
   "outputs": [
    {
     "name": "stdout",
     "output_type": "stream",
     "text": [
      "['14.40', '14.40', '14.40', '17.30', '22.14']\n",
      "['18.33', '20.02', '18.52', '21.33', '04.31']\n",
      "['3 h. 53 min.', '5 h. 22 min.', '4 h. 12 min.', '4 h. 3 min.', '6 h. 17 min.']\n",
      "['Tren Completo', 'Tren Completo', 'Tren Completo', 'Tren Completo', 'Tren Completo']\n"
     ]
    }
   ],
   "source": [
    "print(list_departures)\n",
    "print(list_arrivals)\n",
    "print(list_duration)\n",
    "print(list_prices)"
   ]
  },
  {
   "cell_type": "code",
   "execution_count": 17,
   "metadata": {},
   "outputs": [
    {
     "data": {
      "text/html": [
       "<div>\n",
       "<style scoped>\n",
       "    .dataframe tbody tr th:only-of-type {\n",
       "        vertical-align: middle;\n",
       "    }\n",
       "\n",
       "    .dataframe tbody tr th {\n",
       "        vertical-align: top;\n",
       "    }\n",
       "\n",
       "    .dataframe thead th {\n",
       "        text-align: right;\n",
       "    }\n",
       "</style>\n",
       "<table border=\"1\" class=\"dataframe\">\n",
       "  <thead>\n",
       "    <tr style=\"text-align: right;\">\n",
       "      <th></th>\n",
       "      <th>Departure_time</th>\n",
       "      <th>Arrival_time</th>\n",
       "      <th>Duration</th>\n",
       "      <th>Price</th>\n",
       "    </tr>\n",
       "  </thead>\n",
       "  <tbody>\n",
       "    <tr>\n",
       "      <th>0</th>\n",
       "      <td>14.40</td>\n",
       "      <td>18.33</td>\n",
       "      <td>3 h. 53 min.</td>\n",
       "      <td>Tren Completo</td>\n",
       "    </tr>\n",
       "    <tr>\n",
       "      <th>1</th>\n",
       "      <td>14.40</td>\n",
       "      <td>20.02</td>\n",
       "      <td>5 h. 22 min.</td>\n",
       "      <td>Tren Completo</td>\n",
       "    </tr>\n",
       "    <tr>\n",
       "      <th>2</th>\n",
       "      <td>14.40</td>\n",
       "      <td>18.52</td>\n",
       "      <td>4 h. 12 min.</td>\n",
       "      <td>Tren Completo</td>\n",
       "    </tr>\n",
       "    <tr>\n",
       "      <th>3</th>\n",
       "      <td>17.30</td>\n",
       "      <td>21.33</td>\n",
       "      <td>4 h. 3 min.</td>\n",
       "      <td>Tren Completo</td>\n",
       "    </tr>\n",
       "    <tr>\n",
       "      <th>4</th>\n",
       "      <td>22.14</td>\n",
       "      <td>04.31</td>\n",
       "      <td>6 h. 17 min.</td>\n",
       "      <td>Tren Completo</td>\n",
       "    </tr>\n",
       "  </tbody>\n",
       "</table>\n",
       "</div>"
      ],
      "text/plain": [
       "  Departure_time Arrival_time      Duration          Price\n",
       "0          14.40        18.33  3 h. 53 min.  Tren Completo\n",
       "1          14.40        20.02  5 h. 22 min.  Tren Completo\n",
       "2          14.40        18.52  4 h. 12 min.  Tren Completo\n",
       "3          17.30        21.33   4 h. 3 min.  Tren Completo\n",
       "4          22.14        04.31  6 h. 17 min.  Tren Completo"
      ]
     },
     "metadata": {},
     "output_type": "display_data"
    }
   ],
   "source": [
    "columns = {'Departure_time' : pd.Series(list_departures), 'Arrival_time' : pd.Series(list_arrivals), 'Duration' : pd.Series(list_duration), 'Price' : pd.Series(list_prices)} \n",
    "\n",
    "df = pd.DataFrame(columns)\n",
    "\n",
    "display(df)"
   ]
  },
  {
   "cell_type": "code",
   "execution_count": null,
   "metadata": {},
   "outputs": [],
   "source": [
    "browser.close()"
   ]
  }
 ],
 "metadata": {
  "kernelspec": {
   "display_name": "Python 3",
   "language": "python",
   "name": "python3"
  },
  "language_info": {
   "codemirror_mode": {
    "name": "ipython",
    "version": 3
   },
   "file_extension": ".py",
   "mimetype": "text/x-python",
   "name": "python",
   "nbconvert_exporter": "python",
   "pygments_lexer": "ipython3",
   "version": "3.7.5"
  }
 },
 "nbformat": 4,
 "nbformat_minor": 2
}
