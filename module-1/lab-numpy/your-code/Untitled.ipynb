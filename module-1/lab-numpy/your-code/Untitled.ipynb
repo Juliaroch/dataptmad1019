{
 "cells": [
  {
   "cell_type": "code",
   "execution_count": 6,
   "metadata": {},
   "outputs": [],
   "source": [
    "#1. Import the NUMPY package under the name np.\n",
    "import numpy as np"
   ]
  },
  {
   "cell_type": "code",
   "execution_count": 2,
   "metadata": {},
   "outputs": [
    {
     "name": "stdout",
     "output_type": "stream",
     "text": [
      "appnope==0.1.0\n",
      "attrs==19.3.0\n",
      "backcall==0.1.0\n",
      "bleach==3.1.0\n",
      "certifi==2019.9.11\n",
      "decorator==4.4.1\n",
      "defusedxml==0.6.0\n",
      "entrypoints==0.3\n",
      "importlib-metadata==0.23\n",
      "ipykernel==5.1.3\n",
      "ipython==7.9.0\n",
      "ipython-genutils==0.2.0\n",
      "ipython-sql==0.3.9\n",
      "jedi==0.15.1\n",
      "Jinja2==2.10.3\n",
      "json5==0.8.5\n",
      "jsonschema==3.1.1\n",
      "jupyter-client==5.3.4\n",
      "jupyter-core==4.6.0\n",
      "jupyterlab==1.1.4\n",
      "jupyterlab-server==1.0.6\n",
      "MarkupSafe==1.1.1\n",
      "mistune==0.8.4\n",
      "mkl-fft==1.0.14\n",
      "mkl-random==1.1.0\n",
      "mkl-service==2.3.0\n",
      "more-itertools==7.2.0\n",
      "nb-conda-kernels==2.2.2\n",
      "nbconvert==5.6.0\n",
      "nbformat==4.4.0\n",
      "notebook==6.0.1\n",
      "numpy==1.17.2\n",
      "pandas==0.25.2\n",
      "pandocfilters==1.4.2\n",
      "parso==0.5.1\n",
      "pexpect==4.7.0\n",
      "pickleshare==0.7.5\n",
      "prettytable==0.7.2\n",
      "prometheus-client==0.7.1\n",
      "prompt-toolkit==2.0.10\n",
      "ptyprocess==0.6.0\n",
      "Pygments==2.4.2\n",
      "pyrsistent==0.15.4\n",
      "python-dateutil==2.8.0\n",
      "pytz==2019.3\n",
      "pyzmq==18.1.0\n",
      "Send2Trash==1.5.0\n",
      "six==1.12.0\n",
      "SQLAlchemy==1.3.10\n",
      "sqlparse==0.3.0\n",
      "terminado==0.8.2\n",
      "testpath==0.4.2\n",
      "tornado==6.0.3\n",
      "traitlets==4.3.3\n",
      "wcwidth==0.1.7\n",
      "webencodings==0.5.1\n",
      "zipp==0.6.0\n"
     ]
    }
   ],
   "source": [
    "#2. Print the NUMPY version and the configuration.\n",
    "!pip freeze numpy"
   ]
  },
  {
   "cell_type": "code",
   "execution_count": 16,
   "metadata": {},
   "outputs": [
    {
     "name": "stdout",
     "output_type": "stream",
     "text": [
      "[[[0.09973319 0.33937534 0.28210246 0.41826762 0.72857439]\n",
      "  [0.82166486 0.28424447 0.15567586 0.07445031 0.72977139]\n",
      "  [0.36362342 0.28109924 0.64942205 0.38906174 0.12516596]]\n",
      "\n",
      " [[0.05982806 0.50757606 0.48233808 0.31785459 0.50983806]\n",
      "  [0.82607126 0.8378725  0.66816179 0.9738474  0.14190808]\n",
      "  [0.33260097 0.75321892 0.40517812 0.34068192 0.81552999]]]\n"
     ]
    }
   ],
   "source": [
    "#3. Generate a 2x3x5 3-dimensional array with random values. Assign the array to variable \"a\"\n",
    "# Challenge: there are at least three easy ways that use numpy to generate random arrays. How many ways can you find?\n",
    "from random import random\n",
    "a = np.random.rand(2, 3, 5)\n",
    "#4. Print a.\n",
    "print (a)"
   ]
  },
  {
   "cell_type": "code",
   "execution_count": 19,
   "metadata": {},
   "outputs": [
    {
     "name": "stdout",
     "output_type": "stream",
     "text": [
      "[[[1. 1. 1.]\n",
      "  [1. 1. 1.]]\n",
      "\n",
      " [[1. 1. 1.]\n",
      "  [1. 1. 1.]]\n",
      "\n",
      " [[1. 1. 1.]\n",
      "  [1. 1. 1.]]\n",
      "\n",
      " [[1. 1. 1.]\n",
      "  [1. 1. 1.]]\n",
      "\n",
      " [[1. 1. 1.]\n",
      "  [1. 1. 1.]]]\n"
     ]
    }
   ],
   "source": [
    "#5. Create a 5x2x3 3-dimensional array with all values equaling 1.\n",
    "#Assign the array to variable \"b\"\n",
    "b = np.ones((5,2,3))\n",
    "#6. Print b.\n",
    "print (b)"
   ]
  },
  {
   "cell_type": "code",
   "execution_count": null,
   "metadata": {},
   "outputs": [],
   "source": [
    "#7. Do a and b have the same size? How do you prove that in Python code?\n"
   ]
  }
 ],
 "metadata": {
  "kernelspec": {
   "display_name": "Python 3",
   "language": "python",
   "name": "python3"
  },
  "language_info": {
   "codemirror_mode": {
    "name": "ipython",
    "version": 3
   },
   "file_extension": ".py",
   "mimetype": "text/x-python",
   "name": "python",
   "nbconvert_exporter": "python",
   "pygments_lexer": "ipython3",
   "version": "3.7.5"
  }
 },
 "nbformat": 4,
 "nbformat_minor": 2
}
