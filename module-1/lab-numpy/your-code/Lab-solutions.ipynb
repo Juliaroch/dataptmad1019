{
 "cells": [
  {
   "cell_type": "code",
   "execution_count": 1,
   "metadata": {},
   "outputs": [],
   "source": [
    "#1. Import the NUMPY package under the name np.\n",
    "import numpy as np"
   ]
  },
  {
   "cell_type": "code",
   "execution_count": 2,
   "metadata": {},
   "outputs": [
    {
     "name": "stdout",
     "output_type": "stream",
     "text": [
      "appnope==0.1.0\r\n",
      "attrs==19.3.0\r\n",
      "backcall==0.1.0\r\n",
      "bleach==3.1.0\r\n",
      "certifi==2019.9.11\r\n",
      "decorator==4.4.1\r\n",
      "defusedxml==0.6.0\r\n",
      "entrypoints==0.3\r\n",
      "importlib-metadata==0.23\r\n",
      "ipykernel==5.1.3\r\n",
      "ipython==7.9.0\r\n",
      "ipython-genutils==0.2.0\r\n",
      "ipython-sql==0.3.9\r\n",
      "jedi==0.15.1\r\n",
      "Jinja2==2.10.3\r\n",
      "json5==0.8.5\r\n",
      "jsonschema==3.1.1\r\n",
      "jupyter-client==5.3.4\r\n",
      "jupyter-core==4.6.0\r\n",
      "jupyterlab==1.1.4\r\n",
      "jupyterlab-server==1.0.6\r\n",
      "MarkupSafe==1.1.1\r\n",
      "mistune==0.8.4\r\n",
      "mkl-fft==1.0.14\r\n",
      "mkl-random==1.1.0\r\n",
      "mkl-service==2.3.0\r\n",
      "more-itertools==7.2.0\r\n",
      "nb-conda-kernels==2.2.2\r\n",
      "nbconvert==5.6.0\r\n",
      "nbformat==4.4.0\r\n",
      "notebook==6.0.1\r\n",
      "numpy==1.17.2\r\n",
      "pandas==0.25.2\r\n",
      "pandocfilters==1.4.2\r\n",
      "parso==0.5.1\r\n",
      "pexpect==4.7.0\r\n",
      "pickleshare==0.7.5\r\n",
      "prettytable==0.7.2\r\n",
      "prometheus-client==0.7.1\r\n",
      "prompt-toolkit==2.0.10\r\n",
      "ptyprocess==0.6.0\r\n",
      "Pygments==2.4.2\r\n",
      "pyrsistent==0.15.4\r\n",
      "python-dateutil==2.8.0\r\n",
      "pytz==2019.3\r\n",
      "pyzmq==18.1.0\r\n",
      "Send2Trash==1.5.0\r\n",
      "six==1.12.0\r\n",
      "SQLAlchemy==1.3.10\r\n",
      "sqlparse==0.3.0\r\n",
      "terminado==0.8.2\r\n",
      "testpath==0.4.2\r\n",
      "tornado==6.0.3\r\n",
      "traitlets==4.3.3\r\n",
      "wcwidth==0.1.7\r\n",
      "webencodings==0.5.1\r\n",
      "zipp==0.6.0\r\n"
     ]
    }
   ],
   "source": [
    "#2. Print the NUMPY version and the configuration.\n",
    "!pip freeze numpy"
   ]
  },
  {
   "cell_type": "code",
   "execution_count": 3,
   "metadata": {},
   "outputs": [
    {
     "name": "stdout",
     "output_type": "stream",
     "text": [
      "[[[0.16445687 0.84667536 0.30726898 0.80098137 0.19631435]\n",
      "  [0.02365554 0.30499958 0.53091093 0.49148912 0.53372481]\n",
      "  [0.32137078 0.00594733 0.33486346 0.20980453 0.20907052]]\n",
      "\n",
      " [[0.59928867 0.27620136 0.05585533 0.51427482 0.80348773]\n",
      "  [0.6332484  0.92814138 0.21252654 0.79758725 0.58489046]\n",
      "  [0.62901411 0.55465762 0.91307846 0.08720965 0.64480321]]]\n"
     ]
    }
   ],
   "source": [
    "#3. Generate a 2x3x5 3-dimensional array with random values. Assign the array to variable \"a\"\n",
    "# Challenge: there are at least three easy ways that use numpy to generate random arrays. How many ways can you find?\n",
    "from random import random\n",
    "a = np.random.rand(2, 3, 5)\n",
    "#4. Print a.\n",
    "print (a)"
   ]
  },
  {
   "cell_type": "code",
   "execution_count": 15,
   "metadata": {},
   "outputs": [
    {
     "name": "stdout",
     "output_type": "stream",
     "text": [
      "[[[1. 1. 1.]\n",
      "  [1. 1. 1.]]\n",
      "\n",
      " [[1. 1. 1.]\n",
      "  [1. 1. 1.]]\n",
      "\n",
      " [[1. 1. 1.]\n",
      "  [1. 1. 1.]]\n",
      "\n",
      " [[1. 1. 1.]\n",
      "  [1. 1. 1.]]\n",
      "\n",
      " [[1. 1. 1.]\n",
      "  [1. 1. 1.]]]\n"
     ]
    }
   ],
   "source": [
    "#5. Create a 5x2x3 3-dimensional array with all values equaling 1.\n",
    "#Assign the array to variable \"b\"\n",
    "b = np.ones((5, 2, 3))\n",
    "#6. Print b.\n",
    "print (b)"
   ]
  },
  {
   "cell_type": "code",
   "execution_count": 11,
   "metadata": {},
   "outputs": [
    {
     "name": "stdout",
     "output_type": "stream",
     "text": [
      "A and B have the same size\n"
     ]
    }
   ],
   "source": [
    "#7. Do a and b have the same size? How do you prove that in Python code?\n",
    "if a.size == b.size :\n",
    "    print ('A and B have the same size')\n",
    "else :\n",
    "    print('A and B are not the same size')"
   ]
  },
  {
   "cell_type": "code",
   "execution_count": 16,
   "metadata": {},
   "outputs": [
    {
     "ename": "ValueError",
     "evalue": "operands could not be broadcast together with shapes (2,3,5) (5,2,3) ",
     "output_type": "error",
     "traceback": [
      "\u001b[0;31m---------------------------------------------------------------------------\u001b[0m",
      "\u001b[0;31mValueError\u001b[0m                                Traceback (most recent call last)",
      "\u001b[0;32m<ipython-input-16-70184b09a92d>\u001b[0m in \u001b[0;36m<module>\u001b[0;34m\u001b[0m\n\u001b[1;32m      1\u001b[0m \u001b[0;31m#8. Are you able to add a and b? Why or why not?\u001b[0m\u001b[0;34m\u001b[0m\u001b[0;34m\u001b[0m\u001b[0;34m\u001b[0m\u001b[0m\n\u001b[0;32m----> 2\u001b[0;31m \u001b[0mprint\u001b[0m \u001b[0;34m(\u001b[0m\u001b[0ma\u001b[0m \u001b[0;34m+\u001b[0m \u001b[0mb\u001b[0m\u001b[0;34m)\u001b[0m\u001b[0;34m\u001b[0m\u001b[0;34m\u001b[0m\u001b[0m\n\u001b[0m\u001b[1;32m      3\u001b[0m \u001b[0;31m#No, because they have different shapes\u001b[0m\u001b[0;34m\u001b[0m\u001b[0;34m\u001b[0m\u001b[0;34m\u001b[0m\u001b[0m\n",
      "\u001b[0;31mValueError\u001b[0m: operands could not be broadcast together with shapes (2,3,5) (5,2,3) "
     ]
    }
   ],
   "source": [
    "#8. Are you able to add a and b? Why or why not?\n",
    "print (a + b)\n",
    "#No, because they have different shapes"
   ]
  },
  {
   "cell_type": "code",
   "execution_count": 31,
   "metadata": {},
   "outputs": [
    {
     "name": "stdout",
     "output_type": "stream",
     "text": [
      "[[[1. 1. 1. 1. 1.]\n",
      "  [1. 1. 1. 1. 1.]\n",
      "  [1. 1. 1. 1. 1.]]\n",
      "\n",
      " [[1. 1. 1. 1. 1.]\n",
      "  [1. 1. 1. 1. 1.]\n",
      "  [1. 1. 1. 1. 1.]]]\n",
      "(2, 3, 5)\n"
     ]
    }
   ],
   "source": [
    "#9. Transpose b so that it has the same structure of a (i.e. become a 2x3x5 array). Assign the transposed array to varialbe \"c\".\n",
    "c = b.transpose(1, 2, 0)\n",
    "print (c)\n",
    "print (c.shape)\n"
   ]
  },
  {
   "cell_type": "code",
   "execution_count": 74,
   "metadata": {},
   "outputs": [
    {
     "name": "stdout",
     "output_type": "stream",
     "text": [
      "[[[1.16445687 1.84667536 1.30726898 1.80098137 1.19631435]\n",
      "  [1.02365554 1.30499958 1.53091093 1.49148912 1.53372481]\n",
      "  [1.32137078 1.00594733 1.33486346 1.20980453 1.20907052]]\n",
      "\n",
      " [[1.59928867 1.27620136 1.05585533 1.51427482 1.80348773]\n",
      "  [1.6332484  1.92814138 1.21252654 1.79758725 1.58489046]\n",
      "  [1.62901411 1.55465762 1.91307846 1.08720965 1.64480321]]]\n"
     ]
    }
   ],
   "source": [
    "#10. Try to add a and c. Now it should work. Assign the sum to varialbe \"d\". But why does it work now?\n",
    "d = (a+c)\n",
    "print (d)\n",
    "#It worked because both arrays had the same size"
   ]
  },
  {
   "cell_type": "code",
   "execution_count": 33,
   "metadata": {},
   "outputs": [
    {
     "name": "stdout",
     "output_type": "stream",
     "text": [
      "[[[0.16445687 0.84667536 0.30726898 0.80098137 0.19631435]\n",
      "  [0.02365554 0.30499958 0.53091093 0.49148912 0.53372481]\n",
      "  [0.32137078 0.00594733 0.33486346 0.20980453 0.20907052]]\n",
      "\n",
      " [[0.59928867 0.27620136 0.05585533 0.51427482 0.80348773]\n",
      "  [0.6332484  0.92814138 0.21252654 0.79758725 0.58489046]\n",
      "  [0.62901411 0.55465762 0.91307846 0.08720965 0.64480321]]]\n",
      "[[[1.16445687 1.84667536 1.30726898 1.80098137 1.19631435]\n",
      "  [1.02365554 1.30499958 1.53091093 1.49148912 1.53372481]\n",
      "  [1.32137078 1.00594733 1.33486346 1.20980453 1.20907052]]\n",
      "\n",
      " [[1.59928867 1.27620136 1.05585533 1.51427482 1.80348773]\n",
      "  [1.6332484  1.92814138 1.21252654 1.79758725 1.58489046]\n",
      "  [1.62901411 1.55465762 1.91307846 1.08720965 1.64480321]]]\n"
     ]
    }
   ],
   "source": [
    "#11. Print a and d. Notice the difference and relation of the two array in terms of the values? Explain.\n",
    "print(a)\n",
    "print(d)\n",
    "#Values in d are values in a adding 1"
   ]
  },
  {
   "cell_type": "code",
   "execution_count": 36,
   "metadata": {},
   "outputs": [
    {
     "name": "stdout",
     "output_type": "stream",
     "text": [
      "[[[0.16445687 0.84667536 0.30726898 0.80098137 0.19631435]\n",
      "  [0.02365554 0.30499958 0.53091093 0.49148912 0.53372481]\n",
      "  [0.32137078 0.00594733 0.33486346 0.20980453 0.20907052]]\n",
      "\n",
      " [[0.59928867 0.27620136 0.05585533 0.51427482 0.80348773]\n",
      "  [0.6332484  0.92814138 0.21252654 0.79758725 0.58489046]\n",
      "  [0.62901411 0.55465762 0.91307846 0.08720965 0.64480321]]]\n"
     ]
    }
   ],
   "source": [
    "#12. Multiply a and c. Assign the result to e.\n",
    "e = a*c\n",
    "print(e)"
   ]
  },
  {
   "cell_type": "code",
   "execution_count": 42,
   "metadata": {},
   "outputs": [
    {
     "name": "stdout",
     "output_type": "stream",
     "text": [
      "true\n"
     ]
    }
   ],
   "source": [
    "#13. Does e equal to a? Why or why not?\n",
    "if e.all() == a.all() :\n",
    "    print ('true')\n",
    "else :\n",
    "    print ('false')   \n",
    "#Yes, they're equal because e is a multiplied by 1 "
   ]
  },
  {
   "cell_type": "code",
   "execution_count": 75,
   "metadata": {},
   "outputs": [
    {
     "name": "stdout",
     "output_type": "stream",
     "text": [
      "1.9281413821702609\n",
      "1.450526616914729\n",
      "1.0059473265583585\n"
     ]
    }
   ],
   "source": [
    "#14. Identify the max, min, and mean values in d. Assign those values to variables \"d_max\", \"d_min\", and \"d_mean\"\n",
    "d_max = np.max(d)\n",
    "print(d_max)\n",
    "d_mean = np.mean(d)\n",
    "print(d_mean)\n",
    "d_min = np.min(d)\n",
    "print(d_min)"
   ]
  },
  {
   "cell_type": "code",
   "execution_count": 45,
   "metadata": {},
   "outputs": [
    {
     "name": "stdout",
     "output_type": "stream",
     "text": [
      "[[[0.16445687 0.84667536 0.30726898 0.80098137 0.19631435]\n",
      "  [0.02365554 0.30499958 0.53091093 0.49148912 0.53372481]\n",
      "  [0.32137078 0.00594733 0.33486346 0.20980453 0.20907052]]\n",
      "\n",
      " [[0.59928867 0.27620136 0.05585533 0.51427482 0.80348773]\n",
      "  [0.6332484  0.92814138 0.21252654 0.79758725 0.58489046]\n",
      "  [0.62901411 0.55465762 0.91307846 0.08720965 0.64480321]]]\n"
     ]
    }
   ],
   "source": [
    "#15. Now we want to label the values in d. First create an empty array \"f\" with the same shape (i.e. 2x3x5) as d using `np.empty`.\n",
    "f = np.empty((2, 3, 5))\n",
    "print(f)"
   ]
  },
  {
   "cell_type": "code",
   "execution_count": null,
   "metadata": {},
   "outputs": [],
   "source": [
    "#16. Populate the values in f. For each value in d, if it's larger than d_min but smaller than d_mean, assign 25 to the corresponding value in f.\n",
    "\"\"\"If a value in d is larger than d_mean but smaller than d_max, assign 75 to the corresponding value in f.\n",
    "If a value equals to d_mean, assign 50 to the corresponding value in f.\n",
    "Assign 0 to the corresponding value(s) in f for d_min in d.\n",
    "Assign 100 to the corresponding value(s) in f for d_max in d.\n",
    "In the end, f should have only the following values: 0, 25, 50, 75, and 100.\n",
    "Note: you don't have to use Numpy in this question.\"\"\"\n"
   ]
  },
  {
   "cell_type": "code",
   "execution_count": 163,
   "metadata": {},
   "outputs": [
    {
     "ename": "TypeError",
     "evalue": "'numpy.ndarray' object is not callable",
     "output_type": "error",
     "traceback": [
      "\u001b[0;31m---------------------------------------------------------------------------\u001b[0m",
      "\u001b[0;31mTypeError\u001b[0m                                 Traceback (most recent call last)",
      "\u001b[0;32m<ipython-input-163-fa7be4b7cf30>\u001b[0m in \u001b[0;36m<module>\u001b[0;34m\u001b[0m\n\u001b[1;32m     18\u001b[0m             \u001b[0;32mif\u001b[0m \u001b[0mj\u001b[0m \u001b[0;34m==\u001b[0m \u001b[0md_max\u001b[0m\u001b[0;34m:\u001b[0m\u001b[0;34m\u001b[0m\u001b[0;34m\u001b[0m\u001b[0m\n\u001b[1;32m     19\u001b[0m                 \u001b[0mj\u001b[0m\u001b[0;34m==\u001b[0m\u001b[0;36m100\u001b[0m\u001b[0;34m\u001b[0m\u001b[0;34m\u001b[0m\u001b[0m\n\u001b[0;32m---> 20\u001b[0;31m \u001b[0mf\u001b[0m\u001b[0;34m(\u001b[0m\u001b[0mj\u001b[0m\u001b[0;34m)\u001b[0m\u001b[0;34m\u001b[0m\u001b[0;34m\u001b[0m\u001b[0m\n\u001b[0m\u001b[1;32m     21\u001b[0m \u001b[0mf\u001b[0m \u001b[0;34m=\u001b[0m \u001b[0mnp\u001b[0m\u001b[0;34m.\u001b[0m\u001b[0marray\u001b[0m\u001b[0;34m(\u001b[0m\u001b[0mf\u001b[0m\u001b[0;34m)\u001b[0m\u001b[0;34m\u001b[0m\u001b[0;34m\u001b[0m\u001b[0m\n\u001b[1;32m     22\u001b[0m \u001b[0mprint\u001b[0m \u001b[0;34m(\u001b[0m\u001b[0mf\u001b[0m\u001b[0;34m)\u001b[0m\u001b[0;34m\u001b[0m\u001b[0;34m\u001b[0m\u001b[0m\n",
      "\u001b[0;31mTypeError\u001b[0m: 'numpy.ndarray' object is not callable"
     ]
    }
   ],
   "source": [
    "#each value in d in f:\n",
    "#d_min < x < d_mean = 25\n",
    "#d_mean < x < d_max = 75\n",
    "#x = d_mean = 50 \n",
    "#d_min = 0 \n",
    "#d_max = 100\n",
    "for x in d:\n",
    "    for i in x:\n",
    "        for j in i:\n",
    "            if d_min < j < d_mean:\n",
    "                j==25\n",
    "            if d_mean < j < d_max:\n",
    "                j==75\n",
    "            if j == d_mean:\n",
    "                j==50\n",
    "            if j == d_min:\n",
    "                j==0\n",
    "            if j == d_max:\n",
    "                j==100\n",
    "f(j)\n",
    "f = np.array(f)\n",
    "print (f)"
   ]
  },
  {
   "cell_type": "code",
   "execution_count": null,
   "metadata": {},
   "outputs": [],
   "source": [
    "#17. Print d and f. Do you have your expected f?\n",
    "\"\"\"For instance, if your d is:\n",
    "array([[[1.85836099, 1.67064465, 1.62576044, 1.40243961, 1.88454931],\n",
    "        [1.75354326, 1.69403643, 1.36729252, 1.61415071, 1.12104981],\n",
    "        [1.72201435, 1.1862918 , 1.87078449, 1.7726778 , 1.88180042]],\n",
    "\n",
    "       [[1.44747908, 1.31673383, 1.02000951, 1.52218947, 1.97066381],\n",
    "        [1.79129243, 1.74983003, 1.96028037, 1.85166831, 1.65450881],\n",
    "        [1.18068344, 1.9587381 , 1.00656599, 1.93402165, 1.73514584]]])\n",
    "\n",
    "Your f should be:\n",
    "array([[[ 75.,  75.,  75.,  25.,  75.],\n",
    "        [ 75.,  75.,  25.,  25.,  25.],\n",
    "        [ 75.,  25.,  75.,  75.,  75.]],\n",
    "\n",
    "       [[ 25.,  25.,  25.,  25., 100.],\n",
    "        [ 75.,  75.,  75.,  75.,  75.],\n",
    "        [ 25.,  75.,   0.,  75.,  75.]]])\"\"\"\n",
    "        "
   ]
  },
  {
   "cell_type": "code",
   "execution_count": null,
   "metadata": {},
   "outputs": [],
   "source": []
  },
  {
   "cell_type": "code",
   "execution_count": null,
   "metadata": {},
   "outputs": [],
   "source": [
    "#18. Bonus question: instead of using numbers (i.e. 0, 25, 50, 75, and 100), how to use string values \n",
    "(\"A\", \"B\", \"C\", \"D\", and \"E\") to label the array elements? You are expecting the result to be:\n",
    "array([[[ 'D',  'D',  'D',  'B',  'D'],\n",
    "        [ 'D',  'D',  'B',  'B',  'B'],\n",
    "        [ 'D',  'B',  'D',  'D',  'D']],\n",
    "\n",
    "       [[ 'B',  'B',  'B',  'B',  'E'],\n",
    "        [ 'D',  'D',  'D',  'D',  'D'],\n",
    "        [ 'B',  'D',   'A',  'D', 'D']]])\n",
    "Again, you don't need Numpy in this question.\n",
    "\"\"\""
   ]
  },
  {
   "cell_type": "code",
   "execution_count": null,
   "metadata": {},
   "outputs": [],
   "source": []
  }
 ],
 "metadata": {
  "kernelspec": {
   "display_name": "Python 3",
   "language": "python",
   "name": "python3"
  },
  "language_info": {
   "codemirror_mode": {
    "name": "ipython",
    "version": 3
   },
   "file_extension": ".py",
   "mimetype": "text/x-python",
   "name": "python",
   "nbconvert_exporter": "python",
   "pygments_lexer": "ipython3",
   "version": "3.7.5"
  }
 },
 "nbformat": 4,
 "nbformat_minor": 2
}
